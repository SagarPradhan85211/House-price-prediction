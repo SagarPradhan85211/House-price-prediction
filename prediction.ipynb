{
 "cells": [
  {
   "cell_type": "code",
   "execution_count": 1,
   "id": "c23ad088",
   "metadata": {},
   "outputs": [],
   "source": [
    "import pickle\n"
   ]
  },
  {
   "cell_type": "code",
   "execution_count": 2,
   "id": "cdb85996",
   "metadata": {},
   "outputs": [],
   "source": [
    "m1=\"module.pickle\""
   ]
  },
  {
   "cell_type": "code",
   "execution_count": 3,
   "id": "7af04c2d",
   "metadata": {},
   "outputs": [],
   "source": [
    "aa=pickle.load(open(m1,\"rb\"))"
   ]
  },
  {
   "cell_type": "code",
   "execution_count": 4,
   "id": "a0bf5577",
   "metadata": {},
   "outputs": [
    {
     "name": "stdout",
     "output_type": "stream",
     "text": [
      "enter no of bedrooms:2\n",
      "-------------------------------------------------------\n",
      "enter no of bathrooms:1\n",
      "-------------------------------------------------------\n",
      "enter no of sqft_living:500\n",
      "-------------------------------------------------------\n",
      "enter no of sqft_lot:1000\n",
      "-------------------------------------------------------\n",
      "enter no of floors:2\n",
      "-------------------------------------------------------\n",
      "enter no of waterfront:3\n",
      "-------------------------------------------------------\n",
      "enter no of sqft_above:1000\n",
      "-------------------------------------------------------\n",
      "enter no of sqft_basement:800\n",
      "-------------------------------------------------------\n",
      "enter no of yr_built:2000\n",
      "-------------------------------------------------------\n",
      "the price of the house:2247352.6886217226\n"
     ]
    },
    {
     "name": "stderr",
     "output_type": "stream",
     "text": [
      "C:\\Users\\sagar\\AppData\\Local\\Programs\\Python\\Python310\\lib\\site-packages\\sklearn\\base.py:464: UserWarning: X does not have valid feature names, but LinearRegression was fitted with feature names\n",
      "  warnings.warn(\n"
     ]
    }
   ],
   "source": [
    "a=int(input(\"enter no of bedrooms:\"))\n",
    "print(\"-------------------------------------------------------\")\n",
    "b=int(input(\"enter no of bathrooms:\"))\n",
    "print(\"-------------------------------------------------------\")\n",
    "c=int(input(\"enter no of sqft_living:\"))\n",
    "print(\"-------------------------------------------------------\")\n",
    "d=int(input(\"enter no of sqft_lot:\"))\n",
    "print(\"-------------------------------------------------------\")\n",
    "e=int(input(\"enter no of floors:\"))\n",
    "print(\"-------------------------------------------------------\")\n",
    "f=int(input(\"enter no of waterfront:\"))\n",
    "print(\"-------------------------------------------------------\")\n",
    "g=int(input(\"enter no of sqft_above:\"))\n",
    "print(\"-------------------------------------------------------\")\n",
    "h=int(input(\"enter no of sqft_basement:\"))\n",
    "print(\"-------------------------------------------------------\")\n",
    "i=int(input(\"enter no of yr_built:\"))\n",
    "print(\"-------------------------------------------------------\")\n",
    "s=aa.predict([[a,b,c,d,e,f,g,h,i]])\n",
    "print(\"the price of the house:{0}\".format(s[0]))"
   ]
  },
  {
   "cell_type": "code",
   "execution_count": null,
   "id": "a2952996",
   "metadata": {},
   "outputs": [],
   "source": []
  },
  {
   "cell_type": "code",
   "execution_count": null,
   "id": "e6fccefa",
   "metadata": {},
   "outputs": [],
   "source": []
  }
 ],
 "metadata": {
  "kernelspec": {
   "display_name": "Python 3 (ipykernel)",
   "language": "python",
   "name": "python3"
  },
  "language_info": {
   "codemirror_mode": {
    "name": "ipython",
    "version": 3
   },
   "file_extension": ".py",
   "mimetype": "text/x-python",
   "name": "python",
   "nbconvert_exporter": "python",
   "pygments_lexer": "ipython3",
   "version": "3.10.4"
  }
 },
 "nbformat": 4,
 "nbformat_minor": 5
}
